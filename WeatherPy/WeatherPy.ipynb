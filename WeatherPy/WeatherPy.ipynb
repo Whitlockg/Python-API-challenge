{
 "cells": [
  {
   "cell_type": "code",
   "execution_count": 1,
   "metadata": {},
   "outputs": [],
   "source": [
    "# Dependencies\n",
    "import csv\n",
    "import os\n",
    "import matplotlib.pyplot as plt\n",
    "import requests\n",
    "import pandas as pd\n",
    "from pandas import DataFrame\n",
    "from config import api_key\n",
    "from citipy import citipy\n",
    "import openweathermapy.core as owm\n",
    "from pprint import pprint\n",
    "import datetime\n",
    "import random\n",
    "import time\n",
    "from urllib.error import HTTPError"
   ]
  },
  {
   "cell_type": "code",
   "execution_count": 2,
   "metadata": {},
   "outputs": [],
   "source": [
    "output_file = \"output_file/cities.csv\"\n",
    "\n",
    "# Range of latitudes and longitudes\n",
    "long_range = (-180, 180)\n",
    "lat_range = (-90, 90)\n",
    "#tuples are objects; making these objects"
   ]
  },
  {
   "cell_type": "code",
   "execution_count": 3,
   "metadata": {},
   "outputs": [],
   "source": [
    "#random sets of coordinates\n",
    "def randomcoordinate():\n",
    "    rand_long=(random.randint(lat_range[0],lat_range[1]))\n",
    "    rand_lat = (random.randint(long_range[0],long_range[1]))\n",
    "    rand_long += random.random()\n",
    "    rand_lat += random.random()\n",
    "    return rand_long, rand_lat\n",
    "#will return as tuple"
   ]
  },
  {
   "cell_type": "code",
   "execution_count": 4,
   "metadata": {},
   "outputs": [
    {
     "name": "stdout",
     "output_type": "stream",
     "text": [
      "(18.012941883824247, 53.096951402989475)\n"
     ]
    }
   ],
   "source": [
    "print(repr(randomcoordinate()))"
   ]
  },
  {
   "cell_type": "code",
   "execution_count": 5,
   "metadata": {},
   "outputs": [],
   "source": [
    "def randomcity():\n",
    "    x, y = randomcoordinate()\n",
    "    city = citipy.nearest_city(x, y)\n",
    "    return city.city_name"
   ]
  },
  {
   "cell_type": "code",
   "execution_count": 6,
   "metadata": {},
   "outputs": [
    {
     "name": "stdout",
     "output_type": "stream",
     "text": [
      "sarangarh\n"
     ]
    }
   ],
   "source": [
    "print(randomcity())"
   ]
  },
  {
   "cell_type": "code",
   "execution_count": 7,
   "metadata": {},
   "outputs": [],
   "source": [
    "citylist=[]\n",
    "for x in range(0,3):\n",
    "    city = randomcity()\n",
    "    while(city in citylist):\n",
    "        city = randomcity()\n",
    "    citylist.append(city)\n",
    "# print(citylist)"
   ]
  },
  {
   "cell_type": "code",
   "execution_count": 8,
   "metadata": {},
   "outputs": [],
   "source": [
    "settings = {\"units\": \"metric\", \"appid\": api_key}"
   ]
  },
  {
   "cell_type": "code",
   "execution_count": 9,
   "metadata": {},
   "outputs": [
    {
     "data": {
      "text/html": [
       "<div>\n",
       "<style scoped>\n",
       "    .dataframe tbody tr th:only-of-type {\n",
       "        vertical-align: middle;\n",
       "    }\n",
       "\n",
       "    .dataframe tbody tr th {\n",
       "        vertical-align: top;\n",
       "    }\n",
       "\n",
       "    .dataframe thead th {\n",
       "        text-align: right;\n",
       "    }\n",
       "</style>\n",
       "<table border=\"1\" class=\"dataframe\">\n",
       "  <thead>\n",
       "    <tr style=\"text-align: right;\">\n",
       "      <th></th>\n",
       "      <th>City</th>\n",
       "      <th>Temperature</th>\n",
       "      <th>Cloudiness</th>\n",
       "      <th>Humidity</th>\n",
       "      <th>Latitutde</th>\n",
       "      <th>Wind Speed</th>\n",
       "    </tr>\n",
       "  </thead>\n",
       "  <tbody>\n",
       "    <tr>\n",
       "      <td>0</td>\n",
       "      <td>tasiilaq</td>\n",
       "      <td></td>\n",
       "      <td></td>\n",
       "      <td></td>\n",
       "      <td></td>\n",
       "      <td></td>\n",
       "    </tr>\n",
       "    <tr>\n",
       "      <td>1</td>\n",
       "      <td>rikitea</td>\n",
       "      <td></td>\n",
       "      <td></td>\n",
       "      <td></td>\n",
       "      <td></td>\n",
       "      <td></td>\n",
       "    </tr>\n",
       "    <tr>\n",
       "      <td>2</td>\n",
       "      <td>avarua</td>\n",
       "      <td></td>\n",
       "      <td></td>\n",
       "      <td></td>\n",
       "      <td></td>\n",
       "      <td></td>\n",
       "    </tr>\n",
       "  </tbody>\n",
       "</table>\n",
       "</div>"
      ],
      "text/plain": [
       "       City Temperature Cloudiness Humidity Latitutde Wind Speed\n",
       "0  tasiilaq                                                     \n",
       "1   rikitea                                                     \n",
       "2    avarua                                                     "
      ]
     },
     "execution_count": 9,
     "metadata": {},
     "output_type": "execute_result"
    }
   ],
   "source": [
    "Weatherpy_df=pd.DataFrame(citylist)\n",
    "Weatherpy_df.columns=[\"City\"]\n",
    "Weatherpy_df['Temperature'] = \"\"\n",
    "Weatherpy_df['Cloudiness'] = \"\"\n",
    "Weatherpy_df['Humidity'] = \"\"\n",
    "Weatherpy_df['Latitutde']=\"\"\n",
    "Weatherpy_df['Wind Speed']=\"\"\n",
    "Weatherpy_df.head()"
   ]
  },
  {
   "cell_type": "code",
   "execution_count": 10,
   "metadata": {},
   "outputs": [],
   "source": [
    "def df_info(current_weather):\n",
    "    return {'City': current_weather['name'],\n",
    "     'Temperature': current_weather['main']['temp'],\n",
    "     'Humidity':  current_weather['main']['humidity'], \n",
    "     'Cloudiness':  current_weather['clouds']['all'], \n",
    "     'Wind Speed': current_weather['wind']['speed'], \n",
    "     'Latitude': current_weather['coord']['lat']}"
   ]
  },
  {
   "cell_type": "code",
   "execution_count": 12,
   "metadata": {},
   "outputs": [
    {
     "name": "stdout",
     "output_type": "stream",
     "text": [
      "Processing Record 1 of Set 1 | tasiilaq\n",
      "Processing Record 2 of Set 1 | rikitea\n",
      "Processing Record 3 of Set 1 | avarua\n"
     ]
    }
   ],
   "source": [
    "def city_weather(cityname):\n",
    "    try: \n",
    "        return True, owm.get_current(cityname, **settings)\n",
    "    except HTTPError:\n",
    "        return False, {}\n",
    "    \n",
    "\n",
    "# for x, row in Weatherpy_df.iterrows():\n",
    "    \n",
    "for x in range(0, len(citylist)):\n",
    "    success, raw_data = city_weather(citylist[x])\n",
    "    if success:\n",
    "        print(f\"Processing Record {(x+1)%50} of Set {(x+1)//50+1} | {citylist[x]}\")\n",
    "#             pd.DataFrame(data=df_info(raw_data), index=[str(x)]).to_csv (r'export_df.csv', header=(x == 0), mode='a')\n",
    "    else:\n",
    "        print(\"City not found. Skipping...\")"
   ]
  },
  {
   "cell_type": "code",
   "execution_count": null,
   "metadata": {},
   "outputs": [],
   "source": []
  }
 ],
 "metadata": {
  "kernelspec": {
   "display_name": "Python 3",
   "language": "python",
   "name": "python3"
  },
  "language_info": {
   "codemirror_mode": {
    "name": "ipython",
    "version": 3
   },
   "file_extension": ".py",
   "mimetype": "text/x-python",
   "name": "python",
   "nbconvert_exporter": "python",
   "pygments_lexer": "ipython3",
   "version": "3.7.4"
  }
 },
 "nbformat": 4,
 "nbformat_minor": 4
}
